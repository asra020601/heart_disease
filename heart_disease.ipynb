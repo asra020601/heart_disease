{
  "cells": [
    {
      "cell_type": "markdown",
      "metadata": {
        "id": "WrXXYerU-tLT"
      },
      "source": [
        "Let's start by importing all the important libraries."
      ]
    },
    {
      "cell_type": "code",
      "execution_count": 18,
      "metadata": {
        "id": "0eSUl1A-riox"
      },
      "outputs": [],
      "source": [
        "import pandas as pd #importing pandas to handle the dataframe.\n",
        "import numpy as np #importing numpy incase we need to perform mathematical operations.\n",
        "import matplotlib.pyplot as plt#importing matplotlib for visualization.\n",
        "import seaborn as sns#importing seaborn  explore and understand the data."
      ]
    },
    {
      "cell_type": "markdown",
      "metadata": {
        "id": "q1AFtHkU_bPW"
      },
      "source": [
        "Now, let us read the csv file using pandas read_csv function."
      ]
    },
    {
      "cell_type": "code",
      "execution_count": 19,
      "metadata": {
        "id": "7rZlYHG9Q4vh"
      },
      "outputs": [],
      "source": [
        "df = pd.read_csv('/content/heartdisease.csv')#data is stored in a variable called 'df'."
      ]
    },
    {
      "cell_type": "markdown",
      "metadata": {
        "id": "clPZLyB5ypvx"
      },
      "source": [
        "# **BASIC EXPLORATION**"
      ]
    },
    {
      "cell_type": "markdown",
      "metadata": {
        "id": "cPVd5y1n_925"
      },
      "source": [
        "This shows number of rows and columns in the dataset."
      ]
    },
    {
      "cell_type": "code",
      "execution_count": 20,
      "metadata": {
        "colab": {
          "base_uri": "https://localhost:8080/"
        },
        "id": "y3pKqzhWuefF",
        "outputId": "a7f1eb9b-505c-4957-bb51-3c41cf98bbb7"
      },
      "outputs": [
        {
          "data": {
            "text/plain": [
              "(303, 15)"
            ]
          },
          "execution_count": 20,
          "metadata": {},
          "output_type": "execute_result"
        }
      ],
      "source": [
        "df.shape #.shape attribute of pandas is used to determine the shape of the dataset."
      ]
    },
    {
      "cell_type": "markdown",
      "metadata": {
        "id": "M-g2Z_uJAV-m"
      },
      "source": [
        "If we want to build a model from an extensive dataset, we have to randomly choose a smaller sample of the data that is done through a function sample."
      ]
    },
    {
      "cell_type": "code",
      "execution_count": 21,
      "metadata": {
        "colab": {
          "base_uri": "https://localhost:8080/",
          "height": 80
        },
        "id": "n56ZGAPzzOLn",
        "outputId": "4dc6acb3-012f-4004-b710-63b11f27844b"
      },
      "outputs": [
        {
          "data": {
            "text/html": [
              "\n",
              "  <div id=\"df-7e68f507-c8e5-49c9-b20d-78eb7eec3dfb\">\n",
              "    <div class=\"colab-df-container\">\n",
              "      <div>\n",
              "<style scoped>\n",
              "    .dataframe tbody tr th:only-of-type {\n",
              "        vertical-align: middle;\n",
              "    }\n",
              "\n",
              "    .dataframe tbody tr th {\n",
              "        vertical-align: top;\n",
              "    }\n",
              "\n",
              "    .dataframe thead th {\n",
              "        text-align: right;\n",
              "    }\n",
              "</style>\n",
              "<table border=\"1\" class=\"dataframe\">\n",
              "  <thead>\n",
              "    <tr style=\"text-align: right;\">\n",
              "      <th></th>\n",
              "      <th>age</th>\n",
              "      <th>sex</th>\n",
              "      <th>cp</th>\n",
              "      <th>trestbps</th>\n",
              "      <th>chol</th>\n",
              "      <th>fbs</th>\n",
              "      <th>restecg</th>\n",
              "      <th>thalach</th>\n",
              "      <th>exang</th>\n",
              "      <th>oldpeak</th>\n",
              "      <th>slope</th>\n",
              "      <th>ca</th>\n",
              "      <th>thal</th>\n",
              "      <th>target</th>\n",
              "      <th>Unnamed: 14</th>\n",
              "    </tr>\n",
              "  </thead>\n",
              "  <tbody>\n",
              "    <tr>\n",
              "      <th>262</th>\n",
              "      <td>53</td>\n",
              "      <td>Male</td>\n",
              "      <td>0</td>\n",
              "      <td>123.0</td>\n",
              "      <td>282</td>\n",
              "      <td>0</td>\n",
              "      <td>1</td>\n",
              "      <td>95</td>\n",
              "      <td>1</td>\n",
              "      <td>2.0</td>\n",
              "      <td>1</td>\n",
              "      <td>2.0</td>\n",
              "      <td>3</td>\n",
              "      <td>0.0</td>\n",
              "      <td>Male</td>\n",
              "    </tr>\n",
              "  </tbody>\n",
              "</table>\n",
              "</div>\n",
              "      <button class=\"colab-df-convert\" onclick=\"convertToInteractive('df-7e68f507-c8e5-49c9-b20d-78eb7eec3dfb')\"\n",
              "              title=\"Convert this dataframe to an interactive table.\"\n",
              "              style=\"display:none;\">\n",
              "        \n",
              "  <svg xmlns=\"http://www.w3.org/2000/svg\" height=\"24px\"viewBox=\"0 0 24 24\"\n",
              "       width=\"24px\">\n",
              "    <path d=\"M0 0h24v24H0V0z\" fill=\"none\"/>\n",
              "    <path d=\"M18.56 5.44l.94 2.06.94-2.06 2.06-.94-2.06-.94-.94-2.06-.94 2.06-2.06.94zm-11 1L8.5 8.5l.94-2.06 2.06-.94-2.06-.94L8.5 2.5l-.94 2.06-2.06.94zm10 10l.94 2.06.94-2.06 2.06-.94-2.06-.94-.94-2.06-.94 2.06-2.06.94z\"/><path d=\"M17.41 7.96l-1.37-1.37c-.4-.4-.92-.59-1.43-.59-.52 0-1.04.2-1.43.59L10.3 9.45l-7.72 7.72c-.78.78-.78 2.05 0 2.83L4 21.41c.39.39.9.59 1.41.59.51 0 1.02-.2 1.41-.59l7.78-7.78 2.81-2.81c.8-.78.8-2.07 0-2.86zM5.41 20L4 18.59l7.72-7.72 1.47 1.35L5.41 20z\"/>\n",
              "  </svg>\n",
              "      </button>\n",
              "      \n",
              "  <style>\n",
              "    .colab-df-container {\n",
              "      display:flex;\n",
              "      flex-wrap:wrap;\n",
              "      gap: 12px;\n",
              "    }\n",
              "\n",
              "    .colab-df-convert {\n",
              "      background-color: #E8F0FE;\n",
              "      border: none;\n",
              "      border-radius: 50%;\n",
              "      cursor: pointer;\n",
              "      display: none;\n",
              "      fill: #1967D2;\n",
              "      height: 32px;\n",
              "      padding: 0 0 0 0;\n",
              "      width: 32px;\n",
              "    }\n",
              "\n",
              "    .colab-df-convert:hover {\n",
              "      background-color: #E2EBFA;\n",
              "      box-shadow: 0px 1px 2px rgba(60, 64, 67, 0.3), 0px 1px 3px 1px rgba(60, 64, 67, 0.15);\n",
              "      fill: #174EA6;\n",
              "    }\n",
              "\n",
              "    [theme=dark] .colab-df-convert {\n",
              "      background-color: #3B4455;\n",
              "      fill: #D2E3FC;\n",
              "    }\n",
              "\n",
              "    [theme=dark] .colab-df-convert:hover {\n",
              "      background-color: #434B5C;\n",
              "      box-shadow: 0px 1px 3px 1px rgba(0, 0, 0, 0.15);\n",
              "      filter: drop-shadow(0px 1px 2px rgba(0, 0, 0, 0.3));\n",
              "      fill: #FFFFFF;\n",
              "    }\n",
              "  </style>\n",
              "\n",
              "      <script>\n",
              "        const buttonEl =\n",
              "          document.querySelector('#df-7e68f507-c8e5-49c9-b20d-78eb7eec3dfb button.colab-df-convert');\n",
              "        buttonEl.style.display =\n",
              "          google.colab.kernel.accessAllowed ? 'block' : 'none';\n",
              "\n",
              "        async function convertToInteractive(key) {\n",
              "          const element = document.querySelector('#df-7e68f507-c8e5-49c9-b20d-78eb7eec3dfb');\n",
              "          const dataTable =\n",
              "            await google.colab.kernel.invokeFunction('convertToInteractive',\n",
              "                                                     [key], {});\n",
              "          if (!dataTable) return;\n",
              "\n",
              "          const docLinkHtml = 'Like what you see? Visit the ' +\n",
              "            '<a target=\"_blank\" href=https://colab.research.google.com/notebooks/data_table.ipynb>data table notebook</a>'\n",
              "            + ' to learn more about interactive tables.';\n",
              "          element.innerHTML = '';\n",
              "          dataTable['output_type'] = 'display_data';\n",
              "          await google.colab.output.renderOutput(dataTable, element);\n",
              "          const docLink = document.createElement('div');\n",
              "          docLink.innerHTML = docLinkHtml;\n",
              "          element.appendChild(docLink);\n",
              "        }\n",
              "      </script>\n",
              "    </div>\n",
              "  </div>\n",
              "  "
            ],
            "text/plain": [
              "    age   sex cp  trestbps  chol  fbs  restecg  thalach  exang  oldpeak  \\\n",
              "262  53  Male  0     123.0   282    0        1       95      1      2.0   \n",
              "\n",
              "     slope   ca  thal  target Unnamed: 14  \n",
              "262      1  2.0     3     0.0        Male  "
            ]
          },
          "execution_count": 21,
          "metadata": {},
          "output_type": "execute_result"
        }
      ],
      "source": [
        "df.sample() #pandas sample function is used to select the rows and columns from the DataFrame randomly."
      ]
    },
    {
      "cell_type": "markdown",
      "metadata": {
        "id": "ilHwFTkcBF9W"
      },
      "source": [
        "First five rows and all the columns are displayed to take a look at the data we are dealing with."
      ]
    },
    {
      "cell_type": "code",
      "execution_count": 22,
      "metadata": {
        "colab": {
          "base_uri": "https://localhost:8080/",
          "height": 206
        },
        "id": "NfXtiSt8Q4vh",
        "outputId": "c6a75414-7b4f-456c-9049-4d534886ab0c"
      },
      "outputs": [
        {
          "data": {
            "text/html": [
              "\n",
              "  <div id=\"df-24bf64a5-7818-43fa-8197-d36a605dc66b\">\n",
              "    <div class=\"colab-df-container\">\n",
              "      <div>\n",
              "<style scoped>\n",
              "    .dataframe tbody tr th:only-of-type {\n",
              "        vertical-align: middle;\n",
              "    }\n",
              "\n",
              "    .dataframe tbody tr th {\n",
              "        vertical-align: top;\n",
              "    }\n",
              "\n",
              "    .dataframe thead th {\n",
              "        text-align: right;\n",
              "    }\n",
              "</style>\n",
              "<table border=\"1\" class=\"dataframe\">\n",
              "  <thead>\n",
              "    <tr style=\"text-align: right;\">\n",
              "      <th></th>\n",
              "      <th>age</th>\n",
              "      <th>sex</th>\n",
              "      <th>cp</th>\n",
              "      <th>trestbps</th>\n",
              "      <th>chol</th>\n",
              "      <th>fbs</th>\n",
              "      <th>restecg</th>\n",
              "      <th>thalach</th>\n",
              "      <th>exang</th>\n",
              "      <th>oldpeak</th>\n",
              "      <th>slope</th>\n",
              "      <th>ca</th>\n",
              "      <th>thal</th>\n",
              "      <th>target</th>\n",
              "      <th>Unnamed: 14</th>\n",
              "    </tr>\n",
              "  </thead>\n",
              "  <tbody>\n",
              "    <tr>\n",
              "      <th>0</th>\n",
              "      <td>63</td>\n",
              "      <td>Male</td>\n",
              "      <td>3</td>\n",
              "      <td>145.0</td>\n",
              "      <td>233</td>\n",
              "      <td>1</td>\n",
              "      <td>0</td>\n",
              "      <td>150</td>\n",
              "      <td>0</td>\n",
              "      <td>2.3</td>\n",
              "      <td>0</td>\n",
              "      <td>0.0</td>\n",
              "      <td>1</td>\n",
              "      <td>1.0</td>\n",
              "      <td>Male</td>\n",
              "    </tr>\n",
              "    <tr>\n",
              "      <th>1</th>\n",
              "      <td>37</td>\n",
              "      <td>Male</td>\n",
              "      <td>2</td>\n",
              "      <td>130.0</td>\n",
              "      <td>250</td>\n",
              "      <td>0</td>\n",
              "      <td>1</td>\n",
              "      <td>187</td>\n",
              "      <td>0</td>\n",
              "      <td>3.5</td>\n",
              "      <td>0</td>\n",
              "      <td>0.0</td>\n",
              "      <td>2</td>\n",
              "      <td>1.0</td>\n",
              "      <td>Male</td>\n",
              "    </tr>\n",
              "    <tr>\n",
              "      <th>2</th>\n",
              "      <td>41</td>\n",
              "      <td>Female</td>\n",
              "      <td>1</td>\n",
              "      <td>130.0</td>\n",
              "      <td>204</td>\n",
              "      <td>0</td>\n",
              "      <td>0</td>\n",
              "      <td>172</td>\n",
              "      <td>0</td>\n",
              "      <td>1.4</td>\n",
              "      <td>2</td>\n",
              "      <td>0.0</td>\n",
              "      <td>2</td>\n",
              "      <td>1.0</td>\n",
              "      <td>Female</td>\n",
              "    </tr>\n",
              "    <tr>\n",
              "      <th>3</th>\n",
              "      <td>56</td>\n",
              "      <td>Male</td>\n",
              "      <td>1</td>\n",
              "      <td>120.0</td>\n",
              "      <td>236</td>\n",
              "      <td>0</td>\n",
              "      <td>1</td>\n",
              "      <td>178</td>\n",
              "      <td>0</td>\n",
              "      <td>0.8</td>\n",
              "      <td>2</td>\n",
              "      <td>0.0</td>\n",
              "      <td>2</td>\n",
              "      <td>1.0</td>\n",
              "      <td>Male</td>\n",
              "    </tr>\n",
              "    <tr>\n",
              "      <th>4</th>\n",
              "      <td>57</td>\n",
              "      <td>Female</td>\n",
              "      <td>0</td>\n",
              "      <td>120.0</td>\n",
              "      <td>354</td>\n",
              "      <td>0</td>\n",
              "      <td>1</td>\n",
              "      <td>163</td>\n",
              "      <td>1</td>\n",
              "      <td>0.6</td>\n",
              "      <td>2</td>\n",
              "      <td>0.0</td>\n",
              "      <td>2</td>\n",
              "      <td>1.0</td>\n",
              "      <td>Female</td>\n",
              "    </tr>\n",
              "  </tbody>\n",
              "</table>\n",
              "</div>\n",
              "      <button class=\"colab-df-convert\" onclick=\"convertToInteractive('df-24bf64a5-7818-43fa-8197-d36a605dc66b')\"\n",
              "              title=\"Convert this dataframe to an interactive table.\"\n",
              "              style=\"display:none;\">\n",
              "        \n",
              "  <svg xmlns=\"http://www.w3.org/2000/svg\" height=\"24px\"viewBox=\"0 0 24 24\"\n",
              "       width=\"24px\">\n",
              "    <path d=\"M0 0h24v24H0V0z\" fill=\"none\"/>\n",
              "    <path d=\"M18.56 5.44l.94 2.06.94-2.06 2.06-.94-2.06-.94-.94-2.06-.94 2.06-2.06.94zm-11 1L8.5 8.5l.94-2.06 2.06-.94-2.06-.94L8.5 2.5l-.94 2.06-2.06.94zm10 10l.94 2.06.94-2.06 2.06-.94-2.06-.94-.94-2.06-.94 2.06-2.06.94z\"/><path d=\"M17.41 7.96l-1.37-1.37c-.4-.4-.92-.59-1.43-.59-.52 0-1.04.2-1.43.59L10.3 9.45l-7.72 7.72c-.78.78-.78 2.05 0 2.83L4 21.41c.39.39.9.59 1.41.59.51 0 1.02-.2 1.41-.59l7.78-7.78 2.81-2.81c.8-.78.8-2.07 0-2.86zM5.41 20L4 18.59l7.72-7.72 1.47 1.35L5.41 20z\"/>\n",
              "  </svg>\n",
              "      </button>\n",
              "      \n",
              "  <style>\n",
              "    .colab-df-container {\n",
              "      display:flex;\n",
              "      flex-wrap:wrap;\n",
              "      gap: 12px;\n",
              "    }\n",
              "\n",
              "    .colab-df-convert {\n",
              "      background-color: #E8F0FE;\n",
              "      border: none;\n",
              "      border-radius: 50%;\n",
              "      cursor: pointer;\n",
              "      display: none;\n",
              "      fill: #1967D2;\n",
              "      height: 32px;\n",
              "      padding: 0 0 0 0;\n",
              "      width: 32px;\n",
              "    }\n",
              "\n",
              "    .colab-df-convert:hover {\n",
              "      background-color: #E2EBFA;\n",
              "      box-shadow: 0px 1px 2px rgba(60, 64, 67, 0.3), 0px 1px 3px 1px rgba(60, 64, 67, 0.15);\n",
              "      fill: #174EA6;\n",
              "    }\n",
              "\n",
              "    [theme=dark] .colab-df-convert {\n",
              "      background-color: #3B4455;\n",
              "      fill: #D2E3FC;\n",
              "    }\n",
              "\n",
              "    [theme=dark] .colab-df-convert:hover {\n",
              "      background-color: #434B5C;\n",
              "      box-shadow: 0px 1px 3px 1px rgba(0, 0, 0, 0.15);\n",
              "      filter: drop-shadow(0px 1px 2px rgba(0, 0, 0, 0.3));\n",
              "      fill: #FFFFFF;\n",
              "    }\n",
              "  </style>\n",
              "\n",
              "      <script>\n",
              "        const buttonEl =\n",
              "          document.querySelector('#df-24bf64a5-7818-43fa-8197-d36a605dc66b button.colab-df-convert');\n",
              "        buttonEl.style.display =\n",
              "          google.colab.kernel.accessAllowed ? 'block' : 'none';\n",
              "\n",
              "        async function convertToInteractive(key) {\n",
              "          const element = document.querySelector('#df-24bf64a5-7818-43fa-8197-d36a605dc66b');\n",
              "          const dataTable =\n",
              "            await google.colab.kernel.invokeFunction('convertToInteractive',\n",
              "                                                     [key], {});\n",
              "          if (!dataTable) return;\n",
              "\n",
              "          const docLinkHtml = 'Like what you see? Visit the ' +\n",
              "            '<a target=\"_blank\" href=https://colab.research.google.com/notebooks/data_table.ipynb>data table notebook</a>'\n",
              "            + ' to learn more about interactive tables.';\n",
              "          element.innerHTML = '';\n",
              "          dataTable['output_type'] = 'display_data';\n",
              "          await google.colab.output.renderOutput(dataTable, element);\n",
              "          const docLink = document.createElement('div');\n",
              "          docLink.innerHTML = docLinkHtml;\n",
              "          element.appendChild(docLink);\n",
              "        }\n",
              "      </script>\n",
              "    </div>\n",
              "  </div>\n",
              "  "
            ],
            "text/plain": [
              "  age     sex cp  trestbps  chol  fbs  restecg  thalach  exang  oldpeak  \\\n",
              "0  63    Male  3     145.0   233    1        0      150      0      2.3   \n",
              "1  37    Male  2     130.0   250    0        1      187      0      3.5   \n",
              "2  41  Female  1     130.0   204    0        0      172      0      1.4   \n",
              "3  56    Male  1     120.0   236    0        1      178      0      0.8   \n",
              "4  57  Female  0     120.0   354    0        1      163      1      0.6   \n",
              "\n",
              "   slope   ca  thal  target Unnamed: 14  \n",
              "0      0  0.0     1     1.0        Male  \n",
              "1      0  0.0     2     1.0        Male  \n",
              "2      2  0.0     2     1.0      Female  \n",
              "3      2  0.0     2     1.0        Male  \n",
              "4      2  0.0     2     1.0      Female  "
            ]
          },
          "execution_count": 22,
          "metadata": {},
          "output_type": "execute_result"
        }
      ],
      "source": [
        "df.head() #pandas head function is used to display first rows of the dataset"
      ]
    },
    {
      "cell_type": "markdown",
      "metadata": {
        "id": "hPb_hWIqBz-c"
      },
      "source": [
        "Last rows are displayed to confirm that the given information in above table is consistent throughout the dataset.\n",
        "\n",
        "\n"
      ]
    },
    {
      "cell_type": "code",
      "execution_count": 23,
      "metadata": {
        "colab": {
          "base_uri": "https://localhost:8080/",
          "height": 206
        },
        "id": "qQV2qSfhzWUB",
        "outputId": "b2e26dc0-e45a-4d53-ee2e-0d5cf444799c"
      },
      "outputs": [
        {
          "data": {
            "text/html": [
              "\n",
              "  <div id=\"df-024d5cc1-8333-4563-8bd0-5ed310cedb91\">\n",
              "    <div class=\"colab-df-container\">\n",
              "      <div>\n",
              "<style scoped>\n",
              "    .dataframe tbody tr th:only-of-type {\n",
              "        vertical-align: middle;\n",
              "    }\n",
              "\n",
              "    .dataframe tbody tr th {\n",
              "        vertical-align: top;\n",
              "    }\n",
              "\n",
              "    .dataframe thead th {\n",
              "        text-align: right;\n",
              "    }\n",
              "</style>\n",
              "<table border=\"1\" class=\"dataframe\">\n",
              "  <thead>\n",
              "    <tr style=\"text-align: right;\">\n",
              "      <th></th>\n",
              "      <th>age</th>\n",
              "      <th>sex</th>\n",
              "      <th>cp</th>\n",
              "      <th>trestbps</th>\n",
              "      <th>chol</th>\n",
              "      <th>fbs</th>\n",
              "      <th>restecg</th>\n",
              "      <th>thalach</th>\n",
              "      <th>exang</th>\n",
              "      <th>oldpeak</th>\n",
              "      <th>slope</th>\n",
              "      <th>ca</th>\n",
              "      <th>thal</th>\n",
              "      <th>target</th>\n",
              "      <th>Unnamed: 14</th>\n",
              "    </tr>\n",
              "  </thead>\n",
              "  <tbody>\n",
              "    <tr>\n",
              "      <th>298</th>\n",
              "      <td>57</td>\n",
              "      <td>Female</td>\n",
              "      <td>0</td>\n",
              "      <td>140.0</td>\n",
              "      <td>241</td>\n",
              "      <td>0</td>\n",
              "      <td>1</td>\n",
              "      <td>123</td>\n",
              "      <td>1</td>\n",
              "      <td>0.2</td>\n",
              "      <td>1</td>\n",
              "      <td>0.0</td>\n",
              "      <td>3</td>\n",
              "      <td>0.0</td>\n",
              "      <td>Female</td>\n",
              "    </tr>\n",
              "    <tr>\n",
              "      <th>299</th>\n",
              "      <td>45</td>\n",
              "      <td>Male</td>\n",
              "      <td>3</td>\n",
              "      <td>110.0</td>\n",
              "      <td>264</td>\n",
              "      <td>0</td>\n",
              "      <td>1</td>\n",
              "      <td>132</td>\n",
              "      <td>0</td>\n",
              "      <td>1.2</td>\n",
              "      <td>1</td>\n",
              "      <td>0.0</td>\n",
              "      <td>3</td>\n",
              "      <td>0.0</td>\n",
              "      <td>Male</td>\n",
              "    </tr>\n",
              "    <tr>\n",
              "      <th>300</th>\n",
              "      <td>68</td>\n",
              "      <td>Male</td>\n",
              "      <td>0</td>\n",
              "      <td>144.0</td>\n",
              "      <td>193</td>\n",
              "      <td>1</td>\n",
              "      <td>1</td>\n",
              "      <td>141</td>\n",
              "      <td>0</td>\n",
              "      <td>3.4</td>\n",
              "      <td>1</td>\n",
              "      <td>2.0</td>\n",
              "      <td>3</td>\n",
              "      <td>0.0</td>\n",
              "      <td>Male</td>\n",
              "    </tr>\n",
              "    <tr>\n",
              "      <th>301</th>\n",
              "      <td>57</td>\n",
              "      <td>Male</td>\n",
              "      <td>0</td>\n",
              "      <td>130.0</td>\n",
              "      <td>131</td>\n",
              "      <td>0</td>\n",
              "      <td>1</td>\n",
              "      <td>115</td>\n",
              "      <td>1</td>\n",
              "      <td>1.2</td>\n",
              "      <td>1</td>\n",
              "      <td>1.0</td>\n",
              "      <td>3</td>\n",
              "      <td>0.0</td>\n",
              "      <td>Male</td>\n",
              "    </tr>\n",
              "    <tr>\n",
              "      <th>302</th>\n",
              "      <td>57</td>\n",
              "      <td>Female</td>\n",
              "      <td>1</td>\n",
              "      <td>130.0</td>\n",
              "      <td>236</td>\n",
              "      <td>0</td>\n",
              "      <td>0</td>\n",
              "      <td>174</td>\n",
              "      <td>0</td>\n",
              "      <td>0.0</td>\n",
              "      <td>1</td>\n",
              "      <td>1.0</td>\n",
              "      <td>2</td>\n",
              "      <td>0.0</td>\n",
              "      <td>Female</td>\n",
              "    </tr>\n",
              "  </tbody>\n",
              "</table>\n",
              "</div>\n",
              "      <button class=\"colab-df-convert\" onclick=\"convertToInteractive('df-024d5cc1-8333-4563-8bd0-5ed310cedb91')\"\n",
              "              title=\"Convert this dataframe to an interactive table.\"\n",
              "              style=\"display:none;\">\n",
              "        \n",
              "  <svg xmlns=\"http://www.w3.org/2000/svg\" height=\"24px\"viewBox=\"0 0 24 24\"\n",
              "       width=\"24px\">\n",
              "    <path d=\"M0 0h24v24H0V0z\" fill=\"none\"/>\n",
              "    <path d=\"M18.56 5.44l.94 2.06.94-2.06 2.06-.94-2.06-.94-.94-2.06-.94 2.06-2.06.94zm-11 1L8.5 8.5l.94-2.06 2.06-.94-2.06-.94L8.5 2.5l-.94 2.06-2.06.94zm10 10l.94 2.06.94-2.06 2.06-.94-2.06-.94-.94-2.06-.94 2.06-2.06.94z\"/><path d=\"M17.41 7.96l-1.37-1.37c-.4-.4-.92-.59-1.43-.59-.52 0-1.04.2-1.43.59L10.3 9.45l-7.72 7.72c-.78.78-.78 2.05 0 2.83L4 21.41c.39.39.9.59 1.41.59.51 0 1.02-.2 1.41-.59l7.78-7.78 2.81-2.81c.8-.78.8-2.07 0-2.86zM5.41 20L4 18.59l7.72-7.72 1.47 1.35L5.41 20z\"/>\n",
              "  </svg>\n",
              "      </button>\n",
              "      \n",
              "  <style>\n",
              "    .colab-df-container {\n",
              "      display:flex;\n",
              "      flex-wrap:wrap;\n",
              "      gap: 12px;\n",
              "    }\n",
              "\n",
              "    .colab-df-convert {\n",
              "      background-color: #E8F0FE;\n",
              "      border: none;\n",
              "      border-radius: 50%;\n",
              "      cursor: pointer;\n",
              "      display: none;\n",
              "      fill: #1967D2;\n",
              "      height: 32px;\n",
              "      padding: 0 0 0 0;\n",
              "      width: 32px;\n",
              "    }\n",
              "\n",
              "    .colab-df-convert:hover {\n",
              "      background-color: #E2EBFA;\n",
              "      box-shadow: 0px 1px 2px rgba(60, 64, 67, 0.3), 0px 1px 3px 1px rgba(60, 64, 67, 0.15);\n",
              "      fill: #174EA6;\n",
              "    }\n",
              "\n",
              "    [theme=dark] .colab-df-convert {\n",
              "      background-color: #3B4455;\n",
              "      fill: #D2E3FC;\n",
              "    }\n",
              "\n",
              "    [theme=dark] .colab-df-convert:hover {\n",
              "      background-color: #434B5C;\n",
              "      box-shadow: 0px 1px 3px 1px rgba(0, 0, 0, 0.15);\n",
              "      filter: drop-shadow(0px 1px 2px rgba(0, 0, 0, 0.3));\n",
              "      fill: #FFFFFF;\n",
              "    }\n",
              "  </style>\n",
              "\n",
              "      <script>\n",
              "        const buttonEl =\n",
              "          document.querySelector('#df-024d5cc1-8333-4563-8bd0-5ed310cedb91 button.colab-df-convert');\n",
              "        buttonEl.style.display =\n",
              "          google.colab.kernel.accessAllowed ? 'block' : 'none';\n",
              "\n",
              "        async function convertToInteractive(key) {\n",
              "          const element = document.querySelector('#df-024d5cc1-8333-4563-8bd0-5ed310cedb91');\n",
              "          const dataTable =\n",
              "            await google.colab.kernel.invokeFunction('convertToInteractive',\n",
              "                                                     [key], {});\n",
              "          if (!dataTable) return;\n",
              "\n",
              "          const docLinkHtml = 'Like what you see? Visit the ' +\n",
              "            '<a target=\"_blank\" href=https://colab.research.google.com/notebooks/data_table.ipynb>data table notebook</a>'\n",
              "            + ' to learn more about interactive tables.';\n",
              "          element.innerHTML = '';\n",
              "          dataTable['output_type'] = 'display_data';\n",
              "          await google.colab.output.renderOutput(dataTable, element);\n",
              "          const docLink = document.createElement('div');\n",
              "          docLink.innerHTML = docLinkHtml;\n",
              "          element.appendChild(docLink);\n",
              "        }\n",
              "      </script>\n",
              "    </div>\n",
              "  </div>\n",
              "  "
            ],
            "text/plain": [
              "    age     sex cp  trestbps  chol  fbs  restecg  thalach  exang  oldpeak  \\\n",
              "298  57  Female  0     140.0   241    0        1      123      1      0.2   \n",
              "299  45    Male  3     110.0   264    0        1      132      0      1.2   \n",
              "300  68    Male  0     144.0   193    1        1      141      0      3.4   \n",
              "301  57    Male  0     130.0   131    0        1      115      1      1.2   \n",
              "302  57  Female  1     130.0   236    0        0      174      0      0.0   \n",
              "\n",
              "     slope   ca  thal  target Unnamed: 14  \n",
              "298      1  0.0     3     0.0      Female  \n",
              "299      1  0.0     3     0.0        Male  \n",
              "300      1  2.0     3     0.0        Male  \n",
              "301      1  1.0     3     0.0        Male  \n",
              "302      1  1.0     2     0.0      Female  "
            ]
          },
          "execution_count": 23,
          "metadata": {},
          "output_type": "execute_result"
        }
      ],
      "source": [
        "df.tail() #pandas tail function is used to display last rows of the dataset."
      ]
    },
    {
      "cell_type": "markdown",
      "metadata": {
        "id": "0VCsEaTgCOo_"
      },
      "source": [
        "Basic information about the count of values and data type is presented using the below code."
      ]
    },
    {
      "cell_type": "code",
      "execution_count": 24,
      "metadata": {
        "colab": {
          "base_uri": "https://localhost:8080/"
        },
        "id": "kjrVPW_CzZDB",
        "outputId": "55573da1-082a-45ca-9de2-03422ae3c0bc"
      },
      "outputs": [
        {
          "name": "stdout",
          "output_type": "stream",
          "text": [
            "<class 'pandas.core.frame.DataFrame'>\n",
            "RangeIndex: 303 entries, 0 to 302\n",
            "Data columns (total 15 columns):\n",
            " #   Column       Non-Null Count  Dtype  \n",
            "---  ------       --------------  -----  \n",
            " 0   age          303 non-null    object \n",
            " 1   sex          303 non-null    object \n",
            " 2   cp           303 non-null    object \n",
            " 3   trestbps     302 non-null    float64\n",
            " 4   chol         303 non-null    int64  \n",
            " 5   fbs          303 non-null    int64  \n",
            " 6   restecg      303 non-null    int64  \n",
            " 7   thalach      303 non-null    int64  \n",
            " 8   exang        303 non-null    int64  \n",
            " 9   oldpeak      303 non-null    float64\n",
            " 10  slope        303 non-null    int64  \n",
            " 11  ca           140 non-null    float64\n",
            " 12  thal         303 non-null    int64  \n",
            " 13  target       301 non-null    float64\n",
            " 14  Unnamed: 14  303 non-null    object \n",
            "dtypes: float64(4), int64(7), object(4)\n",
            "memory usage: 35.6+ KB\n"
          ]
        }
      ],
      "source": [
        "df.info() #pandas info function is used to unveil some information about the dataset"
      ]
    },
    {
      "cell_type": "markdown",
      "metadata": {
        "id": "zUgMR80Y-MDf"
      },
      "source": [
        "The DataFrame contains numerical data, the description contains these information for each column: count - The number of not-empty values. mean - The average (mean) value."
      ]
    },
    {
      "cell_type": "code",
      "execution_count": 25,
      "metadata": {
        "colab": {
          "base_uri": "https://localhost:8080/",
          "height": 300
        },
        "id": "u9KdofcmQ4vj",
        "outputId": "9af85460-a62a-4770-f7b3-5774ab0e54b0"
      },
      "outputs": [
        {
          "data": {
            "text/html": [
              "\n",
              "  <div id=\"df-d4776ced-a9aa-430c-9fed-d2d9e1a8759a\">\n",
              "    <div class=\"colab-df-container\">\n",
              "      <div>\n",
              "<style scoped>\n",
              "    .dataframe tbody tr th:only-of-type {\n",
              "        vertical-align: middle;\n",
              "    }\n",
              "\n",
              "    .dataframe tbody tr th {\n",
              "        vertical-align: top;\n",
              "    }\n",
              "\n",
              "    .dataframe thead th {\n",
              "        text-align: right;\n",
              "    }\n",
              "</style>\n",
              "<table border=\"1\" class=\"dataframe\">\n",
              "  <thead>\n",
              "    <tr style=\"text-align: right;\">\n",
              "      <th></th>\n",
              "      <th>trestbps</th>\n",
              "      <th>chol</th>\n",
              "      <th>fbs</th>\n",
              "      <th>restecg</th>\n",
              "      <th>thalach</th>\n",
              "      <th>exang</th>\n",
              "      <th>oldpeak</th>\n",
              "      <th>slope</th>\n",
              "      <th>ca</th>\n",
              "      <th>thal</th>\n",
              "      <th>target</th>\n",
              "    </tr>\n",
              "  </thead>\n",
              "  <tbody>\n",
              "    <tr>\n",
              "      <th>count</th>\n",
              "      <td>302.000000</td>\n",
              "      <td>303.000000</td>\n",
              "      <td>303.000000</td>\n",
              "      <td>303.000000</td>\n",
              "      <td>303.000000</td>\n",
              "      <td>303.000000</td>\n",
              "      <td>303.000000</td>\n",
              "      <td>303.000000</td>\n",
              "      <td>140.000000</td>\n",
              "      <td>303.000000</td>\n",
              "      <td>301.000000</td>\n",
              "    </tr>\n",
              "    <tr>\n",
              "      <th>mean</th>\n",
              "      <td>131.556291</td>\n",
              "      <td>246.264026</td>\n",
              "      <td>0.148515</td>\n",
              "      <td>0.528053</td>\n",
              "      <td>149.646865</td>\n",
              "      <td>0.326733</td>\n",
              "      <td>1.039604</td>\n",
              "      <td>1.399340</td>\n",
              "      <td>0.914286</td>\n",
              "      <td>2.313531</td>\n",
              "      <td>0.548173</td>\n",
              "    </tr>\n",
              "    <tr>\n",
              "      <th>std</th>\n",
              "      <td>17.527818</td>\n",
              "      <td>51.830751</td>\n",
              "      <td>0.356198</td>\n",
              "      <td>0.525860</td>\n",
              "      <td>22.905161</td>\n",
              "      <td>0.469794</td>\n",
              "      <td>1.161075</td>\n",
              "      <td>0.616226</td>\n",
              "      <td>1.121957</td>\n",
              "      <td>0.612277</td>\n",
              "      <td>0.498503</td>\n",
              "    </tr>\n",
              "    <tr>\n",
              "      <th>min</th>\n",
              "      <td>94.000000</td>\n",
              "      <td>126.000000</td>\n",
              "      <td>0.000000</td>\n",
              "      <td>0.000000</td>\n",
              "      <td>71.000000</td>\n",
              "      <td>0.000000</td>\n",
              "      <td>0.000000</td>\n",
              "      <td>0.000000</td>\n",
              "      <td>0.000000</td>\n",
              "      <td>0.000000</td>\n",
              "      <td>0.000000</td>\n",
              "    </tr>\n",
              "    <tr>\n",
              "      <th>25%</th>\n",
              "      <td>120.000000</td>\n",
              "      <td>211.000000</td>\n",
              "      <td>0.000000</td>\n",
              "      <td>0.000000</td>\n",
              "      <td>133.500000</td>\n",
              "      <td>0.000000</td>\n",
              "      <td>0.000000</td>\n",
              "      <td>1.000000</td>\n",
              "      <td>0.000000</td>\n",
              "      <td>2.000000</td>\n",
              "      <td>0.000000</td>\n",
              "    </tr>\n",
              "    <tr>\n",
              "      <th>50%</th>\n",
              "      <td>130.000000</td>\n",
              "      <td>240.000000</td>\n",
              "      <td>0.000000</td>\n",
              "      <td>1.000000</td>\n",
              "      <td>153.000000</td>\n",
              "      <td>0.000000</td>\n",
              "      <td>0.800000</td>\n",
              "      <td>1.000000</td>\n",
              "      <td>0.000000</td>\n",
              "      <td>2.000000</td>\n",
              "      <td>1.000000</td>\n",
              "    </tr>\n",
              "    <tr>\n",
              "      <th>75%</th>\n",
              "      <td>140.000000</td>\n",
              "      <td>274.500000</td>\n",
              "      <td>0.000000</td>\n",
              "      <td>1.000000</td>\n",
              "      <td>166.000000</td>\n",
              "      <td>1.000000</td>\n",
              "      <td>1.600000</td>\n",
              "      <td>2.000000</td>\n",
              "      <td>2.000000</td>\n",
              "      <td>3.000000</td>\n",
              "      <td>1.000000</td>\n",
              "    </tr>\n",
              "    <tr>\n",
              "      <th>max</th>\n",
              "      <td>200.000000</td>\n",
              "      <td>564.000000</td>\n",
              "      <td>1.000000</td>\n",
              "      <td>2.000000</td>\n",
              "      <td>202.000000</td>\n",
              "      <td>1.000000</td>\n",
              "      <td>6.200000</td>\n",
              "      <td>2.000000</td>\n",
              "      <td>4.000000</td>\n",
              "      <td>3.000000</td>\n",
              "      <td>1.000000</td>\n",
              "    </tr>\n",
              "  </tbody>\n",
              "</table>\n",
              "</div>\n",
              "      <button class=\"colab-df-convert\" onclick=\"convertToInteractive('df-d4776ced-a9aa-430c-9fed-d2d9e1a8759a')\"\n",
              "              title=\"Convert this dataframe to an interactive table.\"\n",
              "              style=\"display:none;\">\n",
              "        \n",
              "  <svg xmlns=\"http://www.w3.org/2000/svg\" height=\"24px\"viewBox=\"0 0 24 24\"\n",
              "       width=\"24px\">\n",
              "    <path d=\"M0 0h24v24H0V0z\" fill=\"none\"/>\n",
              "    <path d=\"M18.56 5.44l.94 2.06.94-2.06 2.06-.94-2.06-.94-.94-2.06-.94 2.06-2.06.94zm-11 1L8.5 8.5l.94-2.06 2.06-.94-2.06-.94L8.5 2.5l-.94 2.06-2.06.94zm10 10l.94 2.06.94-2.06 2.06-.94-2.06-.94-.94-2.06-.94 2.06-2.06.94z\"/><path d=\"M17.41 7.96l-1.37-1.37c-.4-.4-.92-.59-1.43-.59-.52 0-1.04.2-1.43.59L10.3 9.45l-7.72 7.72c-.78.78-.78 2.05 0 2.83L4 21.41c.39.39.9.59 1.41.59.51 0 1.02-.2 1.41-.59l7.78-7.78 2.81-2.81c.8-.78.8-2.07 0-2.86zM5.41 20L4 18.59l7.72-7.72 1.47 1.35L5.41 20z\"/>\n",
              "  </svg>\n",
              "      </button>\n",
              "      \n",
              "  <style>\n",
              "    .colab-df-container {\n",
              "      display:flex;\n",
              "      flex-wrap:wrap;\n",
              "      gap: 12px;\n",
              "    }\n",
              "\n",
              "    .colab-df-convert {\n",
              "      background-color: #E8F0FE;\n",
              "      border: none;\n",
              "      border-radius: 50%;\n",
              "      cursor: pointer;\n",
              "      display: none;\n",
              "      fill: #1967D2;\n",
              "      height: 32px;\n",
              "      padding: 0 0 0 0;\n",
              "      width: 32px;\n",
              "    }\n",
              "\n",
              "    .colab-df-convert:hover {\n",
              "      background-color: #E2EBFA;\n",
              "      box-shadow: 0px 1px 2px rgba(60, 64, 67, 0.3), 0px 1px 3px 1px rgba(60, 64, 67, 0.15);\n",
              "      fill: #174EA6;\n",
              "    }\n",
              "\n",
              "    [theme=dark] .colab-df-convert {\n",
              "      background-color: #3B4455;\n",
              "      fill: #D2E3FC;\n",
              "    }\n",
              "\n",
              "    [theme=dark] .colab-df-convert:hover {\n",
              "      background-color: #434B5C;\n",
              "      box-shadow: 0px 1px 3px 1px rgba(0, 0, 0, 0.15);\n",
              "      filter: drop-shadow(0px 1px 2px rgba(0, 0, 0, 0.3));\n",
              "      fill: #FFFFFF;\n",
              "    }\n",
              "  </style>\n",
              "\n",
              "      <script>\n",
              "        const buttonEl =\n",
              "          document.querySelector('#df-d4776ced-a9aa-430c-9fed-d2d9e1a8759a button.colab-df-convert');\n",
              "        buttonEl.style.display =\n",
              "          google.colab.kernel.accessAllowed ? 'block' : 'none';\n",
              "\n",
              "        async function convertToInteractive(key) {\n",
              "          const element = document.querySelector('#df-d4776ced-a9aa-430c-9fed-d2d9e1a8759a');\n",
              "          const dataTable =\n",
              "            await google.colab.kernel.invokeFunction('convertToInteractive',\n",
              "                                                     [key], {});\n",
              "          if (!dataTable) return;\n",
              "\n",
              "          const docLinkHtml = 'Like what you see? Visit the ' +\n",
              "            '<a target=\"_blank\" href=https://colab.research.google.com/notebooks/data_table.ipynb>data table notebook</a>'\n",
              "            + ' to learn more about interactive tables.';\n",
              "          element.innerHTML = '';\n",
              "          dataTable['output_type'] = 'display_data';\n",
              "          await google.colab.output.renderOutput(dataTable, element);\n",
              "          const docLink = document.createElement('div');\n",
              "          docLink.innerHTML = docLinkHtml;\n",
              "          element.appendChild(docLink);\n",
              "        }\n",
              "      </script>\n",
              "    </div>\n",
              "  </div>\n",
              "  "
            ],
            "text/plain": [
              "         trestbps        chol         fbs     restecg     thalach       exang  \\\n",
              "count  302.000000  303.000000  303.000000  303.000000  303.000000  303.000000   \n",
              "mean   131.556291  246.264026    0.148515    0.528053  149.646865    0.326733   \n",
              "std     17.527818   51.830751    0.356198    0.525860   22.905161    0.469794   \n",
              "min     94.000000  126.000000    0.000000    0.000000   71.000000    0.000000   \n",
              "25%    120.000000  211.000000    0.000000    0.000000  133.500000    0.000000   \n",
              "50%    130.000000  240.000000    0.000000    1.000000  153.000000    0.000000   \n",
              "75%    140.000000  274.500000    0.000000    1.000000  166.000000    1.000000   \n",
              "max    200.000000  564.000000    1.000000    2.000000  202.000000    1.000000   \n",
              "\n",
              "          oldpeak       slope          ca        thal      target  \n",
              "count  303.000000  303.000000  140.000000  303.000000  301.000000  \n",
              "mean     1.039604    1.399340    0.914286    2.313531    0.548173  \n",
              "std      1.161075    0.616226    1.121957    0.612277    0.498503  \n",
              "min      0.000000    0.000000    0.000000    0.000000    0.000000  \n",
              "25%      0.000000    1.000000    0.000000    2.000000    0.000000  \n",
              "50%      0.800000    1.000000    0.000000    2.000000    1.000000  \n",
              "75%      1.600000    2.000000    2.000000    3.000000    1.000000  \n",
              "max      6.200000    2.000000    4.000000    3.000000    1.000000  "
            ]
          },
          "execution_count": 25,
          "metadata": {},
          "output_type": "execute_result"
        }
      ],
      "source": [
        "df.describe() #pandas describe function is used to describe the data."
      ]
    },
    {
      "cell_type": "markdown",
      "metadata": {
        "id": "M2n4f17Qdg5C"
      },
      "source": [
        "Next I checked the data types of all the variables. "
      ]
    },
    {
      "cell_type": "code",
      "execution_count": 26,
      "metadata": {
        "colab": {
          "base_uri": "https://localhost:8080/"
        },
        "id": "YyarK4iCmtF0",
        "outputId": "c9d1725f-45db-48b9-bfc4-57bac7b18908"
      },
      "outputs": [
        {
          "data": {
            "text/plain": [
              "age             object\n",
              "sex             object\n",
              "cp              object\n",
              "trestbps       float64\n",
              "chol             int64\n",
              "fbs              int64\n",
              "restecg          int64\n",
              "thalach          int64\n",
              "exang            int64\n",
              "oldpeak        float64\n",
              "slope            int64\n",
              "ca             float64\n",
              "thal             int64\n",
              "target         float64\n",
              "Unnamed: 14     object\n",
              "dtype: object"
            ]
          },
          "execution_count": 26,
          "metadata": {},
          "output_type": "execute_result"
        }
      ],
      "source": [
        "df.dtypes #pandas dtypes attribute is used to show the data type of variables."
      ]
    },
    {
      "cell_type": "markdown",
      "metadata": {
        "id": "yzUtuCemeMMU"
      },
      "source": [
        "Checking the number of unique values for every column to see if the categorical columns have the right count of unique values."
      ]
    },
    {
      "cell_type": "code",
      "execution_count": 27,
      "metadata": {
        "colab": {
          "base_uri": "https://localhost:8080/"
        },
        "id": "HRaIo9WJkR9q",
        "outputId": "dafb1334-94ef-4786-8724-827d4857156a"
      },
      "outputs": [
        {
          "data": {
            "text/plain": [
              "age             43\n",
              "sex              2\n",
              "cp               5\n",
              "trestbps        49\n",
              "chol           152\n",
              "fbs              2\n",
              "restecg          3\n",
              "thalach         91\n",
              "exang            2\n",
              "oldpeak         40\n",
              "slope            3\n",
              "ca               5\n",
              "thal             4\n",
              "target           2\n",
              "Unnamed: 14      2\n",
              "dtype: int64"
            ]
          },
          "execution_count": 27,
          "metadata": {},
          "output_type": "execute_result"
        }
      ],
      "source": [
        "df.nunique() #checking the unique values"
      ]
    },
    {
      "cell_type": "markdown",
      "metadata": {
        "id": "X6V2IaPNy27p"
      },
      "source": [
        "# **UNIQUE VALUES**"
      ]
    },
    {
      "cell_type": "markdown",
      "metadata": {
        "id": "PSwPaVMzfBnS"
      },
      "source": [
        "After checking every categorical column with inappropriate number of unique values. I have concluded that 'cp' column contains one extra value."
      ]
    },
    {
      "cell_type": "code",
      "execution_count": 32,
      "metadata": {
        "colab": {
          "base_uri": "https://localhost:8080/"
        },
        "id": "EfhDda4Aug9V",
        "outputId": "6eeefdef-4ea5-45a9-f88f-f18ac4189b1c"
      },
      "outputs": [
        {
          "data": {
            "text/plain": [
              "array(['3', '2', '1', '0', 'a'], dtype=object)"
            ]
          },
          "execution_count": 32,
          "metadata": {},
          "output_type": "execute_result"
        }
      ],
      "source": [
        "df['cp'].unique() #checking the unique values"
      ]
    },
    {
      "cell_type": "markdown",
      "metadata": {
        "id": "49kvdQRIfhw4"
      },
      "source": [
        "I have decided to drop the unique value i.e 'a' in the given column as it makes no sense and I don't believe it fits in the column at all."
      ]
    },
    {
      "cell_type": "code",
      "execution_count": 33,
      "metadata": {
        "id": "hV5kST88sK1B"
      },
      "outputs": [],
      "source": [
        "df.drop(df[df['cp'] == 'a'].index, inplace = True) #deleting the value using pandas drop function."
      ]
    },
    {
      "cell_type": "markdown",
      "metadata": {
        "id": "weVyc8qHgH7L"
      },
      "source": [
        "The age column is supposed to be numeric but is presented as 'object' data type. I investigated this problem by searching for unique values in the given column."
      ]
    },
    {
      "cell_type": "code",
      "execution_count": 34,
      "metadata": {
        "colab": {
          "base_uri": "https://localhost:8080/"
        },
        "id": "4LyoeHP8y-y5",
        "outputId": "9bd53752-7502-4c1c-a540-d53bf899b72c"
      },
      "outputs": [
        {
          "data": {
            "text/plain": [
              "array(['63', '37', '41', '56', '57', '44', '52', '54', '48', '64', '58',\n",
              "       '50', '66', '43', '69', '59', '42', '61', '40', '71', '51', '0',\n",
              "       '53', '65', '46', '45', '39', '47', '62', '34', '35', '29', '55',\n",
              "       '60', '67', '68', '74', '49', '76', '70', '38', '77', -1],\n",
              "      dtype=object)"
            ]
          },
          "execution_count": 34,
          "metadata": {},
          "output_type": "execute_result"
        }
      ],
      "source": [
        "df['age'].unique() #checking the unique values"
      ]
    },
    {
      "cell_type": "markdown",
      "metadata": {
        "id": "ool7mdsUgwXh"
      },
      "source": [
        "As seen above, the text '40+' is considered as a string and not an integer. But we do not know the real age of this person. But we can assume that this person is above forty years of age and replace '40+'  with mean age of the dataset."
      ]
    },
    {
      "cell_type": "code",
      "execution_count": 38,
      "metadata": {
        "colab": {
          "base_uri": "https://localhost:8080/",
          "height": 466
        },
        "id": "czbMmvIu58rD",
        "outputId": "d6d369e8-b493-45c3-b06f-3e9f1d6c2aa2"
      },
      "outputs": [
        {
          "data": {
            "text/plain": [
              "<matplotlib.lines.Line2D at 0x7f57b17f30d0>"
            ]
          },
          "execution_count": 38,
          "metadata": {},
          "output_type": "execute_result"
        },
        {
          "data": {
            "image/png": "[encoded data removed]",
            "text/plain": [
              "<Figure size 640x480 with 1 Axes>"
            ]
          },
          "metadata": {},
          "output_type": "display_data"
        }
      ],
      "source": [
        "sns.histplot(df['age'])#examining the frequency of age in the data using histplot in sns library\n",
        "plt.axvline(x=df['age'].mean(),\n",
        "            color='red', linestyle= '--') #drawing a vertical line to highlight mean age using axvline in matplotlib\n",
        "plt.axvline(x=df['age'].median(),\n",
        "            color='yellow', linestyle = '--') #drawing a vertical line highlight median age using axvline in matplotlib"
      ]
    },
    {
      "cell_type": "markdown",
      "metadata": {
        "id": "VIk9tmLJiQqI"
      },
      "source": [
        "Since there is no one aged -1 in the dataset we can safely change this to mean age back after we convert age column to int data type."
      ]
    },
    {
      "cell_type": "code",
      "execution_count": 35,
      "metadata": {
        "id": "vyxCkrKQuDYV"
      },
      "outputs": [],
      "source": [
        "df['age'] = df['age'].replace(['40+'], -1) #replacing the string with a number using replace function"
      ]
    },
    {
      "cell_type": "markdown",
      "metadata": {
        "id": "ImD2x0VQjMq_"
      },
      "source": [
        "Changing both age and cp columns to integer data type. "
      ]
    },
    {
      "cell_type": "code",
      "execution_count": 36,
      "metadata": {
        "id": "MzQIlBCWwftb"
      },
      "outputs": [],
      "source": [
        "df[['age','cp']]=df[['age','cp']].astype(int) #changing data types of columns using astype function"
      ]
    },
    {
      "cell_type": "markdown",
      "metadata": {
        "id": "8LEaoieyjVUV"
      },
      "source": [
        "Calculating mean and median age of the dataset."
      ]
    },
    {
      "cell_type": "code",
      "execution_count": 37,
      "metadata": {
        "colab": {
          "base_uri": "https://localhost:8080/"
        },
        "id": "k0DM7izOtjj0",
        "outputId": "da8e028e-306a-452b-b35e-41d5be9743dd"
      },
      "outputs": [
        {
          "name": "stdout",
          "output_type": "stream",
          "text": [
            "55.0\n",
            "53.811258278145694\n"
          ]
        }
      ],
      "source": [
        "print(df['age'].median()) #using median function finding the median age\n",
        "print(df['age'].mean()) #using median function finding the median age"
      ]
    },
    {
      "cell_type": "markdown",
      "metadata": {
        "id": "9V-u3vmgjomW"
      },
      "source": [
        "Imputing the '-1' value in the age column with the mean age."
      ]
    },
    {
      "cell_type": "code",
      "execution_count": 39,
      "metadata": {
        "id": "EIFnGEd5xOoe"
      },
      "outputs": [],
      "source": [
        "df['age'] = df['age'].replace([-1], 53) ##replacing a number with another number using replace function."
      ]
    },
    {
      "cell_type": "markdown",
      "metadata": {
        "id": "Iqno4nxdj1Xm"
      },
      "source": [
        "Finally, checking the count of every value in the column."
      ]
    },
    {
      "cell_type": "code",
      "execution_count": null,
      "metadata": {
        "id": "idO_ZZbFmEqp"
      },
      "outputs": [],
      "source": [
        "df['age'].value_counts() #counting the number of values in the column."
      ]
    },
    {
      "cell_type": "markdown",
      "metadata": {
        "id": "Q9IV1MwZzkO4"
      },
      "source": [
        "# **MISSING VALUES**"
      ]
    },
    {
      "cell_type": "markdown",
      "metadata": {
        "id": "64C_NugIj7aV"
      },
      "source": [
        "Finding the number of null values in every column."
      ]
    },
    {
      "cell_type": "code",
      "execution_count": null,
      "metadata": {
        "colab": {
          "base_uri": "https://localhost:8080/"
        },
        "id": "5t3Lu7CYzpoo",
        "outputId": "54b961c9-a96c-4c28-902b-36c3b8854968"
      },
      "outputs": [
        {
          "data": {
            "text/plain": [
              "age              0\n",
              "sex              0\n",
              "cp               0\n",
              "trestbps         1\n",
              "chol             0\n",
              "fbs              0\n",
              "restecg          0\n",
              "thalach          0\n",
              "exang            0\n",
              "oldpeak          0\n",
              "slope            0\n",
              "ca             162\n",
              "thal             0\n",
              "target           2\n",
              "Unnamed: 14      0\n",
              "dtype: int64"
            ]
          },
          "execution_count": 69,
          "metadata": {},
          "output_type": "execute_result"
        }
      ],
      "source": [
        "df.isnull().sum() #checking for null values"
      ]
    },
    {
      "cell_type": "markdown",
      "metadata": {
        "id": "imOYo0JbkFa9"
      },
      "source": [
        "Visualizing the amount of null values in every column to understand the pattern in the missing values."
      ]
    },
    {
      "cell_type": "code",
      "execution_count": null,
      "metadata": {
        "id": "9xFiZeZe0RaI"
      },
      "outputs": [],
      "source": [
        "import missingno as msno #importing missingno\n",
        "msno.matrix(df) #using the matrix function "
      ]
    },
    {
      "cell_type": "markdown",
      "metadata": {
        "id": "9705rjx4kVZe"
      },
      "source": [
        "Since the 'ca' column has 50% of null values and 'ca' cannot be calculated using the present dataset. I have decided to drop the column."
      ]
    },
    {
      "cell_type": "code",
      "execution_count": null,
      "metadata": {
        "id": "zAGMc24f2XQZ"
      },
      "outputs": [],
      "source": [
        "df.drop(['ca'],axis = 1,inplace = True) #deleting the useless column"
      ]
    },
    {
      "cell_type": "markdown",
      "metadata": {
        "id": "bXobuhB1ksZd"
      },
      "source": [
        "Checking for any difference between the'sex' column and the unnamed column."
      ]
    },
    {
      "cell_type": "code",
      "execution_count": null,
      "metadata": {
        "id": "ZV9vlwoA3hr4"
      },
      "outputs": [],
      "source": [
        "pd.crosstab(df['Unnamed: 14'],df['sex']) #cross checking the values in both columns using crosstab"
      ]
    },
    {
      "cell_type": "markdown",
      "metadata": {
        "id": "cM-XPwP9k3ex"
      },
      "source": [
        "Since there is no difference I have dropped the column as it just a duplicate."
      ]
    },
    {
      "cell_type": "code",
      "execution_count": null,
      "metadata": {
        "id": "79SXR7x14JkH"
      },
      "outputs": [],
      "source": [
        "df.drop(['Unnamed: 14'],axis = 1,inplace = True) #dropping the duplicate column"
      ]
    },
    {
      "cell_type": "code",
      "execution_count": null,
      "metadata": {
        "id": "nx-iAyc727a5"
      },
      "outputs": [],
      "source": [
        "df"
      ]
    },
    {
      "cell_type": "markdown",
      "metadata": {
        "id": "Q-Z0t6k6lORa"
      },
      "source": [
        "Converting an object column into a numerical column before we Multivariate Imputation by Chained Equations algorithm to replace null values."
      ]
    },
    {
      "cell_type": "code",
      "execution_count": null,
      "metadata": {
        "id": "3Fb2O8hc4iyR"
      },
      "outputs": [],
      "source": [
        "df['sex']= df.sex.map({'Male': 0, 'Female': 1}) "
      ]
    },
    {
      "cell_type": "markdown",
      "metadata": {
        "id": "y-hR3OvllrHF"
      },
      "source": [
        "Installing, importing and implementing the MICE algorithm to replace the null values in the entire dataset."
      ]
    },
    {
      "cell_type": "code",
      "execution_count": null,
      "metadata": {
        "id": "ZoUB-u-i3SH_"
      },
      "outputs": [],
      "source": [
        "!pip install fancyimpute\n",
        "from fancyimpute import IterativeImputer #installing important libraries\n",
        "MICE_imputer = IterativeImputer()\n",
        "df_mice = df.copy(deep = True)\n",
        "df.iloc[:,:]=MICE_imputer.fit_transform(df_mice)"
      ]
    },
    {
      "cell_type": "markdown",
      "metadata": {
        "id": "GKcYf9BHl8AQ"
      },
      "source": [
        "Swapping the values of 'sex' column once again because it belongs to object data type and is a categorical variable."
      ]
    },
    {
      "cell_type": "code",
      "execution_count": null,
      "metadata": {
        "id": "9_8mAavy42wW"
      },
      "outputs": [],
      "source": [
        "df['sex']= df.sex.map({0 : 'Male', 1 : 'Female'})"
      ]
    },
    {
      "cell_type": "markdown",
      "metadata": {
        "id": "KMRFJSVimW6M"
      },
      "source": [
        "Checking for null values once again. We find no null values now."
      ]
    },
    {
      "cell_type": "code",
      "execution_count": 50,
      "metadata": {
        "colab": {
          "base_uri": "https://localhost:8080/"
        },
        "id": "ZYXmNsrB4rfO",
        "outputId": "92d69059-af41-4d77-8a7f-ea3264c76223"
      },
      "outputs": [
        {
          "data": {
            "text/plain": [
              "Age                        0\n",
              "Sex                        0\n",
              "Chest_pain                 0\n",
              "Rest_BP                    1\n",
              "Cholestrol                 0\n",
              "Fasting_Blood_Sugar        0\n",
              "Rest_ECG                   0\n",
              "MAX_HeartRate              0\n",
              "Exercise_Angina            0\n",
              "ST_depression_oldpeak      0\n",
              "Slope_oldpeak              0\n",
              "ca                       162\n",
              "thalium stress result      0\n",
              "target                     2\n",
              "Unnamed: 14                0\n",
              "dtype: int64"
            ]
          },
          "execution_count": 50,
          "metadata": {},
          "output_type": "execute_result"
        }
      ],
      "source": [
        "df.isnull().sum()"
      ]
    },
    {
      "cell_type": "markdown",
      "metadata": {
        "id": "_CwjrEsGo_4q"
      },
      "source": [
        "Renaming the columns to more self explanatory titles."
      ]
    },
    {
      "cell_type": "code",
      "execution_count": 49,
      "metadata": {
        "id": "9gthSSW-pAKl"
      },
      "outputs": [],
      "source": [
        "df.rename(columns = {'chol':'Cholestrol',\n",
        "                     'fbs':'Fasting_Blood_Sugar', \n",
        "                     'cp' : 'Chest_pain',\n",
        "                     'restecg':'Rest_ECG', \n",
        "                     'trestbps' : 'Rest_BP',\n",
        "                     'thalach' : 'MAX_HeartRate',\n",
        "                     'exang' : 'Exercise_Angina',\n",
        "                     'oldpeak' : 'ST_depression_oldpeak',\n",
        "                     'slope' : 'Slope_oldpeak',\n",
        "                     'thal' : 'thalium stress result',\n",
        "                     'age' : 'Age',\n",
        "                     'sex' : 'Sex'}, inplace = True)"
      ]
    }
  ],
  "metadata": {
    "colab": {
      "provenance": []
    },
    "kernelspec": {
      "display_name": "Python 3",
      "language": "python",
      "name": "python3"
    },
    "language_info": {
      "codemirror_mode": {
        "name": "ipython",
        "version": 3
      },
      "file_extension": ".py",
      "mimetype": "text/x-python",
      "name": "python",
      "nbconvert_exporter": "python",
      "pygments_lexer": "ipython3",
      "version": "3.10.11"
    },
    "orig_nbformat": 4
  },
  "nbformat": 4,
  "nbformat_minor": 0
}
